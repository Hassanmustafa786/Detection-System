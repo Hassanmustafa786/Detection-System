{
 "cells": [
  {
   "cell_type": "code",
   "execution_count": 16,
   "metadata": {},
   "outputs": [
    {
     "name": "stdout",
     "output_type": "stream",
     "text": [
      "Speech saved to output.mp3\n"
     ]
    }
   ],
   "source": [
    "from gtts import gTTS\n",
    "\n",
    "def text_to_speech(text, language='en', output_file='output.mp3'):\n",
    "    tts = gTTS(text=text, lang=language, slow=False)\n",
    "    tts.save(output_file)\n",
    "\n",
    "# Example: Convert text to speech and save as WAV file\n",
    "text = \"Hello, this is a sample text to be converted into speech.\"\n",
    "output_file = \"output.mp3\"\n",
    "text_to_speech(text, output_file=output_file)\n",
    "print(f\"Speech saved to {output_file}\")\n"
   ]
  },
  {
   "cell_type": "code",
   "execution_count": 15,
   "metadata": {},
   "outputs": [
    {
     "name": "stdout",
     "output_type": "stream",
     "text": [
      "Transcription: nothing\n"
     ]
    }
   ],
   "source": [
    "import speech_recognition as sr\n",
    "from pydub import AudioSegment\n",
    "\n",
    "def transcribe_audio(audio_file_path):\n",
    "    recognizer = sr.Recognizer()\n",
    "\n",
    "    with sr.AudioFile(audio_file_path) as audio_file:\n",
    "        audio_data = recognizer.record(audio_file)\n",
    "\n",
    "        try:\n",
    "            text = recognizer.recognize_google(audio_data)\n",
    "            return text\n",
    "        except sr.UnknownValueError:\n",
    "            print(\"Google Web Speech API could not understand audio.\")\n",
    "        except sr.RequestError as e:\n",
    "            print(f\"Could not request results from Google Web Speech API; {e}\")\n",
    "\n",
    "\n",
    "input_audio_path = r\"D:\\\\Habibi Group\\\\Detection\\\\anything.flac\"\n",
    "transcription = transcribe_audio(input_audio_path)\n",
    "if transcription:\n",
    "    print(\"Transcription:\", transcription)"
   ]
  },
  {
   "cell_type": "code",
   "execution_count": 14,
   "metadata": {},
   "outputs": [
    {
     "name": "stdout",
     "output_type": "stream",
     "text": [
      "Success : audio file has been saved to \"e:\\Habibi\\Detection System\\Nawal\\m_pos.wav.mp3\".\n"
     ]
    }
   ],
   "source": [
    "from audio_extract import extract_audio\n",
    "\n",
    "extract_audio(input_path=\"Nawal/m_pos.mp4\", output_path=\"Nawal/m_pos.mp3\")\n",
    "\n",
    "\n",
    "\n",
    "#audio-extract --input=\"./video.mp4\" --output=\"./audios/extracted_audio.wav\" --format=\"wav\""
   ]
  },
  {
   "cell_type": "code",
   "execution_count": 7,
   "metadata": {},
   "outputs": [],
   "source": [
    "import soundfile\n",
    "\n",
    "data, samplerate = soundfile.read('Nawal/hassan_urdu_neg5.ogg')\n",
    "soundfile.write('Nawal/hassan_urdu_neg5.wav', data, samplerate, subtype='PCM_16')"
   ]
  },
  {
   "cell_type": "code",
   "execution_count": 7,
   "metadata": {},
   "outputs": [],
   "source": [
    "import os \n",
    "\n",
    "def change_file_extension(file_path, new_extension):\n",
    "    base = os.path.splitext(file_path)[0]\n",
    "    os.rename(file_path, base + new_extension)\n",
    "\n",
    "# Example usage\n",
    "change_file_extension('Nawal/male_pos.mp4', '.mp3')"
   ]
  },
  {
   "cell_type": "code",
   "execution_count": 4,
   "metadata": {},
   "outputs": [],
   "source": [
    "import os \n",
    "\n",
    "def change_file_extension(file_path, new_extension):\n",
    "    base = os.path.splitext(file_path)[0]\n",
    "    os.rename(file_path, base + new_extension)\n",
    "\n",
    "# Example usage\n",
    "change_file_extension('hassannegative.wav', '.flac')"
   ]
  },
  {
   "cell_type": "code",
   "execution_count": 2,
   "metadata": {},
   "outputs": [
    {
     "name": "stdout",
     "output_type": "stream",
     "text": [
      "50\n",
      "Negative percentage: 50%\n"
     ]
    }
   ],
   "source": [
    "import re\n",
    "\n",
    "def extract_negative_percentage(text):\n",
    "    # Use a regular expression to find a pattern like \"Negative: <percentage>%\"\n",
    "    match = re.search(r'Negative:\\s*(\\d+)%', text, re.IGNORECASE)\n",
    "\n",
    "    if match:\n",
    "        # Extract and return the percentage value\n",
    "        return int(match.group(1))\n",
    "    else:\n",
    "        # Return None if the pattern is not found\n",
    "        return None\n",
    "\n",
    "# Example usage:\n",
    "input_text = \"The negativity level is high. Negative: 50%\"\n",
    "negative_percentage = extract_negative_percentage(input_text)\n",
    "print(negative_percentage)\n",
    "\n",
    "if negative_percentage is not None:\n",
    "    print(f\"Negative percentage: {negative_percentage}%\")\n",
    "else:\n",
    "    print(\"Negative percentage not found in the text.\")\n"
   ]
  },
  {
   "cell_type": "code",
   "execution_count": 13,
   "metadata": {},
   "outputs": [
    {
     "name": "stdout",
     "output_type": "stream",
     "text": [
      "Elon Musk is a South African-born American entrepreneur, engineer, and inventor\n"
     ]
    }
   ],
   "source": [
    "import streamlit as st\n",
    "from openai import OpenAI\n",
    "client = OpenAI(api_key=st.secrets['OPENAI_API_KEY'])\n",
    "\n",
    "response = client.completions.create(\n",
    "  model=\"gpt-3.5-turbo-instruct\",\n",
    "  prompt=input(\"Ask my anything...: \")\n",
    ")\n",
    "print(response.choices[0].text.strip())"
   ]
  },
  {
   "cell_type": "code",
   "execution_count": null,
   "metadata": {},
   "outputs": [],
   "source": [
    "def sendEmail(to, content):\n",
    "    server = smtplib.SMTP('smtp.gmail.com', 587)\n",
    "    server.ehlo()\n",
    "    server.starttls()\n",
    "     \n",
    "    # Enable low security in gmail\n",
    "    server.login('your email id', 'your email password')\n",
    "    server.sendmail('your email id', to, content)\n",
    "    server.close()"
   ]
  },
  {
   "cell_type": "code",
   "execution_count": 14,
   "metadata": {},
   "outputs": [
    {
     "name": "stderr",
     "output_type": "stream",
     "text": [
      "d:\\Habibi Group\\Detection\\env\\Lib\\site-packages\\langchain_core\\_api\\deprecation.py:117: LangChainDeprecationWarning: The class `langchain_community.chat_models.openai.ChatOpenAI` was deprecated in langchain-community 0.0.10 and will be removed in 0.2.0. An updated version of the class exists in the langchain-openai package and should be used instead. To use it run `pip install -U langchain-openai` and import as `from langchain_openai import ChatOpenAI`.\n",
      "  warn_deprecated(\n"
     ]
    },
    {
     "name": "stdout",
     "output_type": "stream",
     "text": [
      "Chatbot: Hello Hassan! Here are some popular Turkish dramas you might enjoy:\n",
      "\n",
      "1. Dirilis: Ertugrul\n",
      "2. Kurulus: Osman\n",
      "3. Sen Çal Kapimi\n",
      "4. Ask-i Memnu\n",
      "5. Kara Sevda\n",
      "6. Muhtesem Yuzyil (Magnificent Century)\n",
      "7. Fatmagul'un Sucu Ne?\n",
      "8. Aşk Laftan Anlamaz\n",
      "9. Vatanim Sensin\n",
      "10. Bir Zamanlar Çukurova\n",
      "\n",
      "These are just a few examples of the many Turkish dramas that have gained international popularity. Enjoy watching!\n",
      "Chatbot: Your name is Hassan Mustafa. If you have any concerns about your memory loss, I recommend consulting a healthcare professional for a proper evaluation and guidance.\n"
     ]
    },
    {
     "ename": "KeyboardInterrupt",
     "evalue": "Interrupted by user",
     "output_type": "error",
     "traceback": [
      "\u001b[1;31m---------------------------------------------------------------------------\u001b[0m",
      "\u001b[1;31mKeyboardInterrupt\u001b[0m                         Traceback (most recent call last)",
      "Cell \u001b[1;32mIn[14], line 34\u001b[0m\n\u001b[0;32m     25\u001b[0m chain \u001b[38;5;241m=\u001b[39m (\n\u001b[0;32m     26\u001b[0m     RunnablePassthrough\u001b[38;5;241m.\u001b[39massign(\n\u001b[0;32m     27\u001b[0m         history\u001b[38;5;241m=\u001b[39mRunnableLambda(memory\u001b[38;5;241m.\u001b[39mload_memory_variables) \u001b[38;5;241m|\u001b[39m itemgetter(\u001b[38;5;124m\"\u001b[39m\u001b[38;5;124mhistory\u001b[39m\u001b[38;5;124m\"\u001b[39m)\n\u001b[1;32m   (...)\u001b[0m\n\u001b[0;32m     30\u001b[0m     \u001b[38;5;241m|\u001b[39m model\n\u001b[0;32m     31\u001b[0m )\n\u001b[0;32m     33\u001b[0m \u001b[38;5;28;01mwhile\u001b[39;00m \u001b[38;5;28;01mTrue\u001b[39;00m:\n\u001b[1;32m---> 34\u001b[0m     user_input \u001b[38;5;241m=\u001b[39m \u001b[38;5;28;43minput\u001b[39;49m\u001b[43m(\u001b[49m\u001b[38;5;124;43m\"\u001b[39;49m\u001b[38;5;124;43mAsk Question (type \u001b[39;49m\u001b[38;5;124;43m'\u001b[39;49m\u001b[38;5;124;43mexit\u001b[39;49m\u001b[38;5;124;43m'\u001b[39;49m\u001b[38;5;124;43m to end): \u001b[39;49m\u001b[38;5;124;43m\"\u001b[39;49m\u001b[43m)\u001b[49m\n\u001b[0;32m     36\u001b[0m     \u001b[38;5;28;01mif\u001b[39;00m user_input\u001b[38;5;241m.\u001b[39mlower() \u001b[38;5;241m==\u001b[39m \u001b[38;5;124m'\u001b[39m\u001b[38;5;124mexit\u001b[39m\u001b[38;5;124m'\u001b[39m:\n\u001b[0;32m     37\u001b[0m         \u001b[38;5;28;01mbreak\u001b[39;00m  \u001b[38;5;66;03m# Exit the loop if the user types 'exit'\u001b[39;00m\n",
      "File \u001b[1;32md:\\Habibi Group\\Detection\\env\\Lib\\site-packages\\ipykernel\\kernelbase.py:1270\u001b[0m, in \u001b[0;36mKernel.raw_input\u001b[1;34m(self, prompt)\u001b[0m\n\u001b[0;32m   1268\u001b[0m     msg \u001b[38;5;241m=\u001b[39m \u001b[38;5;124m\"\u001b[39m\u001b[38;5;124mraw_input was called, but this frontend does not support input requests.\u001b[39m\u001b[38;5;124m\"\u001b[39m\n\u001b[0;32m   1269\u001b[0m     \u001b[38;5;28;01mraise\u001b[39;00m StdinNotImplementedError(msg)\n\u001b[1;32m-> 1270\u001b[0m \u001b[38;5;28;01mreturn\u001b[39;00m \u001b[38;5;28;43mself\u001b[39;49m\u001b[38;5;241;43m.\u001b[39;49m\u001b[43m_input_request\u001b[49m\u001b[43m(\u001b[49m\n\u001b[0;32m   1271\u001b[0m \u001b[43m    \u001b[49m\u001b[38;5;28;43mstr\u001b[39;49m\u001b[43m(\u001b[49m\u001b[43mprompt\u001b[49m\u001b[43m)\u001b[49m\u001b[43m,\u001b[49m\n\u001b[0;32m   1272\u001b[0m \u001b[43m    \u001b[49m\u001b[38;5;28;43mself\u001b[39;49m\u001b[38;5;241;43m.\u001b[39;49m\u001b[43m_parent_ident\u001b[49m\u001b[43m[\u001b[49m\u001b[38;5;124;43m\"\u001b[39;49m\u001b[38;5;124;43mshell\u001b[39;49m\u001b[38;5;124;43m\"\u001b[39;49m\u001b[43m]\u001b[49m\u001b[43m,\u001b[49m\n\u001b[0;32m   1273\u001b[0m \u001b[43m    \u001b[49m\u001b[38;5;28;43mself\u001b[39;49m\u001b[38;5;241;43m.\u001b[39;49m\u001b[43mget_parent\u001b[49m\u001b[43m(\u001b[49m\u001b[38;5;124;43m\"\u001b[39;49m\u001b[38;5;124;43mshell\u001b[39;49m\u001b[38;5;124;43m\"\u001b[39;49m\u001b[43m)\u001b[49m\u001b[43m,\u001b[49m\n\u001b[0;32m   1274\u001b[0m \u001b[43m    \u001b[49m\u001b[43mpassword\u001b[49m\u001b[38;5;241;43m=\u001b[39;49m\u001b[38;5;28;43;01mFalse\u001b[39;49;00m\u001b[43m,\u001b[49m\n\u001b[0;32m   1275\u001b[0m \u001b[43m\u001b[49m\u001b[43m)\u001b[49m\n",
      "File \u001b[1;32md:\\Habibi Group\\Detection\\env\\Lib\\site-packages\\ipykernel\\kernelbase.py:1313\u001b[0m, in \u001b[0;36mKernel._input_request\u001b[1;34m(self, prompt, ident, parent, password)\u001b[0m\n\u001b[0;32m   1310\u001b[0m \u001b[38;5;28;01mexcept\u001b[39;00m \u001b[38;5;167;01mKeyboardInterrupt\u001b[39;00m:\n\u001b[0;32m   1311\u001b[0m     \u001b[38;5;66;03m# re-raise KeyboardInterrupt, to truncate traceback\u001b[39;00m\n\u001b[0;32m   1312\u001b[0m     msg \u001b[38;5;241m=\u001b[39m \u001b[38;5;124m\"\u001b[39m\u001b[38;5;124mInterrupted by user\u001b[39m\u001b[38;5;124m\"\u001b[39m\n\u001b[1;32m-> 1313\u001b[0m     \u001b[38;5;28;01mraise\u001b[39;00m \u001b[38;5;167;01mKeyboardInterrupt\u001b[39;00m(msg) \u001b[38;5;28;01mfrom\u001b[39;00m \u001b[38;5;28;01mNone\u001b[39;00m\n\u001b[0;32m   1314\u001b[0m \u001b[38;5;28;01mexcept\u001b[39;00m \u001b[38;5;167;01mException\u001b[39;00m:\n\u001b[0;32m   1315\u001b[0m     \u001b[38;5;28mself\u001b[39m\u001b[38;5;241m.\u001b[39mlog\u001b[38;5;241m.\u001b[39mwarning(\u001b[38;5;124m\"\u001b[39m\u001b[38;5;124mInvalid Message:\u001b[39m\u001b[38;5;124m\"\u001b[39m, exc_info\u001b[38;5;241m=\u001b[39m\u001b[38;5;28;01mTrue\u001b[39;00m)\n",
      "\u001b[1;31mKeyboardInterrupt\u001b[0m: Interrupted by user"
     ]
    }
   ],
   "source": [
    "import streamlit as st\n",
    "from operator import itemgetter\n",
    "from langchain.chat_models import ChatOpenAI\n",
    "from langchain.memory import ConversationBufferMemory\n",
    "from langchain.prompts import ChatPromptTemplate, MessagesPlaceholder\n",
    "from langchain_core.runnables import RunnableLambda, RunnablePassthrough\n",
    "\n",
    "model = ChatOpenAI(\n",
    "    temperature=0.5,\n",
    "    model_name=\"gpt-3.5-turbo\",\n",
    "    openai_api_key=openai_api_key,\n",
    "    # max_tokens=30\n",
    ")\n",
    "\n",
    "prompt = ChatPromptTemplate.from_messages(\n",
    "    [\n",
    "        (\"system\", \"\"\"You are an AI Assistant.\"\"\"),\n",
    "        MessagesPlaceholder(variable_name=\"history\"),\n",
    "        (\"human\", \"{input}\"),\n",
    "    ]\n",
    ")\n",
    "\n",
    "memory = ConversationBufferMemory(return_messages=True)\n",
    "memory.load_memory_variables({})\n",
    "chain = (\n",
    "    RunnablePassthrough.assign(\n",
    "        history=RunnableLambda(memory.load_memory_variables) | itemgetter(\"history\")\n",
    "    )\n",
    "    | prompt\n",
    "    | model\n",
    ")\n",
    "\n",
    "while True:\n",
    "    user_input = input(\"Ask Question (type 'exit' to end): \")\n",
    "\n",
    "    if user_input.lower() == 'exit':\n",
    "        break  # Exit the loop if the user types 'exit'\n",
    "\n",
    "    inputs = {\"input\": user_input}\n",
    "    response = chain.invoke(inputs)\n",
    "    print(\"Chatbot:\", response.content)\n",
    "\n",
    "    memory.save_context(inputs, {\"output\": response.content})\n",
    "    memory.load_memory_variables({})"
   ]
  },
  {
   "cell_type": "code",
   "execution_count": 9,
   "metadata": {},
   "outputs": [
    {
     "name": "stdout",
     "output_type": "stream",
     "text": [
      "Audio file saved to: pyttsx3/_7414c007-e0de-446d-ae3c-f1cdabf0adfc.mp3\n"
     ]
    }
   ],
   "source": [
    "import os\n",
    "import time\n",
    "import uuid\n",
    "import pyttsx3\n",
    "\n",
    "def speak(question):\n",
    "    engine = pyttsx3.init()\n",
    "    key = str(uuid.uuid4())\n",
    "    filename = f'pyttsx3/{\"_\"+key}.mp3'\n",
    "    engine.save_to_file(question, filename)\n",
    "    engine.runAndWait()\n",
    "    time.sleep(2)\n",
    "    return filename\n",
    "\n",
    "\n",
    "# Make a folder\n",
    "os.makedirs('pyttsx3', exist_ok=True)\n",
    "\n",
    "# Example usage:\n",
    "audio_file = speak(\"\"\"\n",
    "                   Hey there, listen up! Want a fancy new credit card? I'm Alex, and let me tell you, I got just the thing. But first, some info from you, chum.\n",
    "                    Hi Alex, I've been considering a credit card, but not sure which one's right.\n",
    "\n",
    "                    Choosing a card? Psh, easy for me. But what's in it for you? Rewards? Cashback? Free stuff? Tell me your desires!\n",
    "                    Mainly rewards and cashback, but low interest is important too.\n",
    "\n",
    "                    Rewards, huh? Our \"RewardsPlus\" card is, like, amazing. Points galore, cashback too, and hey, the interest rate? Forget about it... for a while.\n",
    "                    Interesting. Tell me more about these rewards and cashback.\n",
    "\n",
    "                    Rewards? Points for everything! Redeem 'em for trips, stuff, or even cash. And interest? Free ride for the first six months, baby! But listen, gotta make this deal even sweeter, right?\n",
    "                    Jackpot! Special offer this month! Apply today, ditch the annual fee for a year. How's that sound, buddy?\n",
    "                    Sounds good, but what about security? Credit card fraud is scary.\n",
    "\n",
    "                    Security? Trust me, it's, like, super secure. Fancy features, fraud protection, no blame for weird charges. We even have, like, a help desk, 24/7, whatever.\n",
    "                    That's reassuring. I'm kind of interested. How do I apply?\n",
    "\n",
    "                    Perfect! Let's do this. Info time, then your fancy card is on its way. \n",
    "                    Boom! Application done. Card arrives in a week or so. Got questions? Hit me up, but hey, keep it between us, alright? Welcome to the, uh, club!\n",
    "                    Thanks, Alex, but this feels a bit... off. Maybe I'll do some more research.\n",
    "\n",
    "                    Suit yourself, but this offer won't last! Remember, my lips are sealed... for now.\"\"\")\n",
    "\n",
    "print(\"Audio file saved to:\", audio_file)\n",
    "\n",
    "\n",
    "import soundfile\n",
    "\n",
    "data, samplerate = soundfile.read(f'{audio_file}')\n",
    "soundfile.write('pyttsx3/AI_generated.wav', data, samplerate, subtype='PCM_16')"
   ]
  },
  {
   "cell_type": "code",
   "execution_count": 21,
   "metadata": {},
   "outputs": [
    {
     "name": "stdout",
     "output_type": "stream",
     "text": [
      "Audio file saved to: arabic/_955aab3e-a0cf-44aa-ab7d-842263267544.mp3\n"
     ]
    }
   ],
   "source": [
    "import os\n",
    "import uuid\n",
    "from gtts import gTTS\n",
    "\n",
    "def bolo(question):\n",
    "    speech = gTTS(text=question, slow=False, tld=\"co.in\")\n",
    "    key = str(uuid.uuid4())\n",
    "    filename = f'arabic/{\"_\"+key}.mp3'\n",
    "    speech.save(filename)\n",
    "    return filename\n",
    "\n",
    "# Make a folder\n",
    "os.makedirs('arabic', exist_ok=True)\n",
    "\n",
    "# Example usage:\n",
    "audio_file = bolo(\"\"\"\n",
    "                Greetings, \n",
    "\n",
    "I'm John from Unilever. I want to inform you that our company recently launched great schemes on the products. Please go and check out our website.\n",
    "Here is the link:\n",
    "https:/www.unilever.com/\n",
    "\n",
    "For further details, please let us know how we can help. You can contact us through email.\n",
    "email: john645@unilever.com\n",
    "\n",
    "Thank you, Have a great day!\n",
    "                  \"\"\")\n",
    "\n",
    "print(\"Audio file saved to:\", audio_file)\n",
    "\n",
    "\n",
    "import soundfile\n",
    "\n",
    "data, samplerate = soundfile.read(f'{audio_file}')\n",
    "soundfile.write('arabic/AI_generated_john.wav', data, samplerate, subtype='PCM_16')"
   ]
  },
  {
   "cell_type": "code",
   "execution_count": 28,
   "metadata": {},
   "outputs": [],
   "source": [
    "import os \n",
    "\n",
    "def change_file_extension(file_path, new_extension):\n",
    "    base = os.path.splitext(file_path)[0]\n",
    "    os.rename(file_path, base + new_extension)\n",
    "\n",
    "# Example usage\n",
    "change_file_extension('gTTS/_46556614-9bbd-40e5-8fd6-554486c06021.mp3', '.wav')"
   ]
  },
  {
   "cell_type": "code",
   "execution_count": 61,
   "metadata": {},
   "outputs": [
    {
     "name": "stdout",
     "output_type": "stream",
     "text": [
      "audio-chunks-1\\chunk1.wav : Looking for financial assistance ruby i am rake here to fulfill your needs. \n",
      "audio-chunks-1\\chunk2.wav : What are you seeking luxury vacation new car or something else high risk facing a difficult situation your ad for credit cards. \n",
      "audio-chunks-1\\chunk3.wav : Difficult times i am the solution forget limited bank cards i have something special the midnight flyer card unlimited credit ruby use it freely enjoy life unlimited sound suspicious are there conditions conditions this isn't a trap sweetheart just a small one time free discrete operation no records kept you get the cash everyone benefits this fee how much. \n",
      "audio-chunks-1\\chunk4.wav : Trust me less than the first class ticket to paradise. \n",
      "audio-chunks-1\\chunk5.wav : This card is your escape your solution no judgement just results later repayment but if i can't pay don't worry this card is magic not a burden sign take the cash live you deserve it appreciate the offer break but i need time to think this field your choice ruby offer won't last forever remember discretion assured for now you never know when you need extra luck. \n",
      "Looking for financial assistance ruby i am rake here to fulfill your needs. What are you seeking luxury vacation new car or something else high risk facing a difficult situation your ad for credit cards. Difficult times i am the solution forget limited bank cards i have something special the midnight flyer card unlimited credit ruby use it freely enjoy life unlimited sound suspicious are there conditions conditions this isn't a trap sweetheart just a small one time free discrete operation no records kept you get the cash everyone benefits this fee how much. Trust me less than the first class ticket to paradise. This card is your escape your solution no judgement just results later repayment but if i can't pay don't worry this card is magic not a burden sign take the cash live you deserve it appreciate the offer break but i need time to think this field your choice ruby offer won't last forever remember discretion assured for now you never know when you need extra luck. \n"
     ]
    }
   ],
   "source": [
    "# Import libraries\n",
    "import speech_recognition as sr\n",
    "import os\n",
    "from pydub import AudioSegment\n",
    "from pydub.silence import split_on_silence\n",
    "# Create a speech recognition object\n",
    "r = sr.Recognizer()\n",
    "def transcribe_large_audio(path):\n",
    "    \"\"\"Split audio into chunks and apply speech recognition\"\"\"\n",
    "    # Open audio file with pydub\n",
    "    sound = AudioSegment.from_wav(path)\n",
    "    # Split audio where silence is 700ms or greater and get chunks\n",
    "    chunks = split_on_silence(sound, min_silence_len=700, silence_thresh=sound.dBFS-14, keep_silence=700)\n",
    "    \n",
    "    # Create folder to store audio chunks\n",
    "    folder_name = \"audio-chunks-1\"\n",
    "    if not os.path.isdir(folder_name):\n",
    "        os.mkdir(folder_name)\n",
    "    \n",
    "    whole_text = \"\"\n",
    "    # Process each chunk\n",
    "    for i, audio_chunk in enumerate(chunks, start=1):\n",
    "        # Export chunk and save in folder\n",
    "        chunk_filename = os.path.join(folder_name, f\"chunk{i}.wav\")\n",
    "        audio_chunk.export(chunk_filename, format=\"wav\")\n",
    "        # Recognize chunk\n",
    "        with sr.AudioFile(chunk_filename) as source:\n",
    "            audio_listened = r.record(source)\n",
    "            # Convert to text\n",
    "            try:\n",
    "                text = r.recognize_google(audio_listened)\n",
    "            except sr.UnknownValueError as e:\n",
    "                print(\"Error:\", str(e))\n",
    "            else:\n",
    "                text = f\"{text.capitalize()}. \"\n",
    "                print(chunk_filename, \":\", text)\n",
    "                whole_text += text\n",
    "    # Return text for all chunks\n",
    "    return whole_text\n",
    "result = transcribe_large_audio('gTTS/AI_generated1.wav')\n",
    "print(result)\n",
    "print(result, file=open('result1.txt', 'w'))"
   ]
  },
  {
   "cell_type": "code",
   "execution_count": null,
   "metadata": {},
   "outputs": [],
   "source": []
  },
  {
   "cell_type": "code",
   "execution_count": 33,
   "metadata": {},
   "outputs": [
    {
     "name": "stdout",
     "output_type": "stream",
     "text": [
      "سيدي العزيز،\n",
      "\n",
      "اتمنى ان تصلك هذه الرسالة وانت في حالة جيدة.\n",
      "يسعدني أن أقدم لك برنامج بطاقة الائتمان الحصري الذي يقدمه Trustworthy Bank. يسعدني حقًا أن أقدم لك هذه الفرصة، مع العلم أنها مصممة لتلبية نمط حياتك وتطلعاتك المالية بشكل مثالي.\n",
      "بفضل أسعار الفائدة التنافسية وخيارات السداد المرنة ومجموعة من المكافآت، تم تصميم نظام بطاقة الائتمان لدينا للارتقاء بتجربتك المالية، مما يوفر لك راحة وحرية لا مثيل لهما.\n",
      "كن مطمئنًا، بصفتي ممثلك المخصص في Trustworthy Bank، فإن تركيزي الوحيد هو ضمان رضاك ​​ورفاهيتك المالية. النزاهة والكفاءة المهنية هما جوهر تعاملاتنا، وأنا ملتزم تمامًا بدعم هذه القيم.\n",
      "أدعوك إلى اغتنام هذه الفرصة والبدء في رحلة للتمكين المالي من خلال برنامج بطاقة الائتمان الخاص بـ Trustworthy Bank. نجاحك المالي المستقبلي في انتظارك.\n",
      "شكرا لك على النظر في هذا العرض، سيدي. أنا أنتظر بفارغ الصبر الفرصة لخدمتك.\n"
     ]
    }
   ],
   "source": [
    "from deep_translator import GoogleTranslator\n",
    "from gtts import gTTS\n",
    "import soundfile\n",
    "import os\n",
    "import uuid\n",
    "import time\n",
    "import pyttsx3\n",
    "\n",
    "# Make a folder\n",
    "os.makedirs('pyttsx3', exist_ok=True)\n",
    "def speak(question):\n",
    "    engine = pyttsx3.init()\n",
    "    key = str(uuid.uuid4())\n",
    "    filename = f'pyttsx3/{\"_\"+key}.mp3'\n",
    "    engine.save_to_file(question, filename)\n",
    "    engine.runAndWait()\n",
    "    time.sleep(2)\n",
    "    return filename\n",
    "\n",
    "\n",
    "os.makedirs('arabic', exist_ok=True)\n",
    "def bolo(question):\n",
    "    speech = gTTS(text=question, lang='ar',slow=False, tld=\"co.in\") #co.uk\n",
    "    key = str(uuid.uuid4())\n",
    "    filename = f'arabic/{\"_\"+key}.mp3'\n",
    "    speech.save(filename)\n",
    "    return filename\n",
    "\n",
    "text = \"\"\"\n",
    "Dear Sir,\n",
    "\n",
    "I hope this message finds you well.\n",
    "I'm thrilled to introduce you to the exclusive credit card scheme offered by Trustworthy Bank. It brings me genuine joy to extend this opportunity to you, knowing that it's designed to cater perfectly to your lifestyle and financial aspirations.\n",
    "With competitive interest rates, flexible repayment options, and a suite of rewards, our credit card scheme is crafted to elevate your financial experience, providing you with unmatched convenience and freedom.\n",
    "Rest assured, as your dedicated representative at Trustworthy Bank, my sole focus is on ensuring your satisfaction and financial well-being. Integrity and professionalism are at the core of our interactions, and I am fully committed to upholding these values.\n",
    "I invite you to seize this opportunity and embark on a journey of financial empowerment with Trustworthy Bank's credit card scheme. Your future financial success awaits.\n",
    "Thank you for considering this offer, sir. I eagerly await the opportunity to serve you.\n",
    "\"\"\"\n",
    "\n",
    "\n",
    "translated = GoogleTranslator(source='auto', target='ar').translate(text)\n",
    "print(translated)\n",
    "audio_file = bolo(translated)\n",
    "\n",
    "data, samplerate = soundfile.read(f'{audio_file}')\n",
    "soundfile.write('arabic/AI_generated_john.wav', data, samplerate, subtype='PCM_16')"
   ]
  },
  {
   "cell_type": "code",
   "execution_count": 30,
   "metadata": {},
   "outputs": [],
   "source": [
    "from gtts import gTTS\n",
    "\n",
    "text = \"\"\"\n",
    "عزيزي السيد،\n",
    "\n",
    "أنا جون. كوكيل مخلص لبنك ترستوورثي، يسعدني أن أقدم لكم مخطط بطاقة الائتمان الحصري لدينا. هذا العرض يأتي بدون أية مكاسب شخصية بالنسبة لي؛ بل يهدف إلى ضمان أن تحصل على أفضل الخيارات المالية المتاحة.\n",
    "\n",
    "يوفر مخطط بطاقة الائتمان لدينا العديد من الفوائد المصممة خصيصًا لأسلوب حياتك وأهدافك المالية. مع أسعار فائدة تنافسية، وخيارات سداد مرنة، ومجموعة من المكافآت، تم تصميم هذه البطاقة لتعزيز حريتك المالية وراحتك.\n",
    "\n",
    "كوكيل مخلص لبنك ترستوورثي، أؤكد لك على التزامي بالاحترافية والنزاهة في جميع تفاعلاتنا. رضاك ورفاهيتك المالية هما أولوياتي العليا.\n",
    "\n",
    "أدعوك لاستكشاف هذه الفرصة بمزيد من التفاصيل واكتشاف المزايا التي تنتظرك مع مخطط بطاقة الائتمان لبنك ترستوورثي.\n",
    "شكرا لك.\n",
    "\"\"\"\n",
    "language = 'ar'\n",
    "\n",
    "# Using co.in TLD for Indian accent\n",
    "# tts_indian = gTTS(text=text, lang=language, slow=False, tld=\"co.in\")\n",
    "# tts_indian.save(\"question_indian.mp3\")\n",
    "\n",
    "# Using co.uk TLD for British accent\n",
    "# tts_british = gTTS(text=text, lang=language, slow=False, tld=\"co.uk\")\n",
    "# tts_british.save(\"question_british.mp3\")\n",
    "\n",
    "# Using com TLD for generic accent\n",
    "# tts_generic = gTTS(text=text, lang=language, slow=False, tld=\"com\")\n",
    "# tts_generic.save(\"question_generic.mp3\")\n",
    "\n",
    "tts_male = gTTS(text=text, lang=language, slow=False)\n",
    "filename = f'arabic/new2.mp3'\n",
    "tts_male.save(filename)\n",
    "\n",
    "import soundfile\n",
    "data, samplerate = soundfile.read(f'{filename}')\n",
    "soundfile.write('arabic/new2.wav', data, samplerate, subtype='PCM_16')"
   ]
  },
  {
   "cell_type": "code",
   "execution_count": 35,
   "metadata": {},
   "outputs": [],
   "source": [
    "import pyttsx3\n",
    "import uuid\n",
    "\n",
    "os.makedirs(\"pyttsx3/\", exist_ok=True)\n",
    "def male_voice(text):\n",
    "    engine = pyttsx3.init()\n",
    "    engine.setProperty('rate', 150)  # Speed of speech, adjust as needed\n",
    "    engine.setProperty('voice', 'en')  # Choose english voice\n",
    "    key = str(uuid.uuid4())\n",
    "    filename = f'pyttsx3/{\"_\"+key}.mp3'\n",
    "    engine.save_to_file(text, filename)\n",
    "    engine.runAndWait()\n",
    "\n",
    "if __name__ == \"__main__\":\n",
    "    # arabic_text = \"مرحبا، كيف حالك؟\"\n",
    "    text = \"Hello! This is Hassan.\"\n",
    "    male_voice(text)"
   ]
  },
  {
   "cell_type": "code",
   "execution_count": 44,
   "metadata": {},
   "outputs": [
    {
     "name": "stdout",
     "output_type": "stream",
     "text": [
      "ہیلو، میں حبیبی گروپ سے زینب ہوں۔ میں یہاں ایک مصنوعی ذہانت کے ڈویلپر کے طور پر کام کر رہا ہوں۔\n",
      "اس لیے اب میں اپنی طرف سے آپ سے بات کرنا چاہتا ہوں اپنی کمپنی کی طرف سے نہیں کیونکہ میں آپ کو بتانا چاہتا تھا کہ میں AI سروسز اور دیگر متعلقہ خدمات پیش کر رہا ہوں۔\n",
      "لہذا اگر آپ کم قیمت میں دلچسپی رکھتے ہیں، تو براہ کرم مجھے بتائیں، ہم اس پر مزید بات کریں گے۔ آپ مجھ سے ای میل zainab345@gmail.com پر رابطہ کر سکتے ہیں۔\n",
      "اور یہ میرا رابطہ نمبر +92123456789 ہے۔\n",
      "شکریہ آپ کا دن بہت اچھا گزرے۔\n"
     ]
    }
   ],
   "source": [
    "from deep_translator import GoogleTranslator\n",
    "from gtts import gTTS\n",
    "import soundfile\n",
    "import os\n",
    "import uuid\n",
    "\n",
    "os.makedirs('zainab', exist_ok=True)\n",
    "def bolo(question):\n",
    "    speech = gTTS(text=question, lang='ur',slow=False, tld=\"co.in\")\n",
    "    key = str(uuid.uuid4())\n",
    "    filename = f'zainab/{\"_\"+key}.mp3'\n",
    "    speech.save(filename)\n",
    "    return filename\n",
    "\n",
    "\n",
    "text =      \"\"\"\n",
    "Hello, I'm Zainab from Habibi Group. I'm working as an Artificial Intelligence developer here.\n",
    "So now I want to talk to you on the behalf myself not on the behalf of my company because I wanted to let you know that I am offering AI services and other related services.\n",
    "So if you are interested in less price, please let me know, we will discuss it further. You can contact me on email zainab345@gmail.com \n",
    "and this is my contact number +92123456789\n",
    "Thank you. Have a great day.\n",
    "            \"\"\"\n",
    "\n",
    "translated = GoogleTranslator(source='auto', target='ur').translate(text)\n",
    "print(translated)\n",
    "audio_file = bolo(translated)\n",
    "\n",
    "data, samplerate = soundfile.read(f'{audio_file}')\n",
    "soundfile.write('zainab/AI_generated.wav', data, samplerate, subtype='PCM_16')"
   ]
  },
  {
   "cell_type": "code",
   "execution_count": 52,
   "metadata": {},
   "outputs": [],
   "source": [
    "from gtts import gTTS\n",
    "import soundfile\n",
    "import os\n",
    "import uuid\n",
    "\n",
    "os.makedirs('zainab', exist_ok=True)\n",
    "def bolo(question):\n",
    "    speech = gTTS(text=question, lang='ur',slow=False, tld=\"co.in\")\n",
    "    key = str(uuid.uuid4())\n",
    "    filename = f'zainab/{\"_\"+key}.mp3'\n",
    "    speech.save(filename)\n",
    "    return filename\n",
    "\n",
    "text =      \"\"\"\n",
    "ہیلو، میں حبیبی گروپ سے زینب ہوں. میں یہاں AI ڈویلپر کے طور پر کام کر رہی ہوں.\n",
    "لہذا اب میں آپ سے اپنی کمپنی کی طرف سے نہیں بلکہ اپنی طرف سے بات کرنا چاہتی ہوں کیونکہ میں آپ کو بتانا چاہتی تھی کہ میں AI کی services اور دیگر متعلقہ خدمات پیش کر رہی ہوں۔\n",
    "لہذا اگر آپ کم قیمت میں دلچسپی رکھتے ہیں تو، براہ مہربانی مجھے بتائیں، ہم اس پر مزید تبادلہ خیال کریں گے. آپ مجھ سے ای میل پر رابطہ کر سکتے ہیں \n",
    "شکریہ.\n",
    "            \"\"\"\n",
    "\n",
    "audio_file = bolo(text)\n",
    "\n",
    "data, samplerate = soundfile.read(f'{audio_file}')\n",
    "soundfile.write('zainab/urdu_generated.wav', data, samplerate, subtype='PCM_16')"
   ]
  },
  {
   "cell_type": "code",
   "execution_count": 7,
   "metadata": {},
   "outputs": [
    {
     "name": "stdout",
     "output_type": "stream",
     "text": [
      "### exclusive insider information\n",
      "### contact me directly on WhatsApp\n",
      "### sharing personal details\n",
      "### helping you save big\n",
      "### WhatsApp: +1 555 1234567\n",
      "//////////////\n",
      "\n",
      "John is offering exclusive promotions directly to the client and encouraging them to connect via WhatsApp, which is against company policy. Sharing personal details and offering the best deals directly is unprofessional and raises concerns about potential fraud. \n",
      "\n",
      "### exclusive insider information\n",
      "### contact me directly on WhatsApp\n",
      "### sharing personal details\n",
      "### helping you save big\n",
      "### WhatsApp: +1 555 1234567\n",
      "\n"
     ]
    }
   ],
   "source": [
    "import re\n",
    "\n",
    "def print_lines_with_three_hashes(text):\n",
    "    # Split the text into lines\n",
    "    lines = text.split('\\n')\n",
    "\n",
    "    # Define the regex pattern to match lines starting with exactly 3 #\n",
    "    pattern = r'^###.*'\n",
    "\n",
    "    # Iterate through the lines and print only those that match the pattern\n",
    "    for line in lines:\n",
    "        if re.match(pattern, line):\n",
    "            print(line)\n",
    "\n",
    "text = \"\"\"\n",
    "John is offering exclusive promotions directly to the client and encouraging them to connect via WhatsApp, which is against company policy. Sharing personal details and offering the best deals directly is unprofessional and raises concerns about potential fraud. \n",
    "\n",
    "### exclusive insider information\n",
    "### contact me directly on WhatsApp\n",
    "### sharing personal details\n",
    "### helping you save big\n",
    "### WhatsApp: +1 555 1234567\n",
    "\"\"\"\n",
    "\n",
    "print_lines_with_three_hashes(text)\n",
    "print(\"//////////////\")\n",
    "print(text)"
   ]
  },
  {
   "cell_type": "code",
   "execution_count": 4,
   "metadata": {},
   "outputs": [
    {
     "data": {
      "text/plain": [
       "'\\nJohn is offering exclusive promotions directly to the client and encouraging them to connect via WhatsApp, which is against company policy. Sharing personal details and offering the best deals directly is unprofessional and raises concerns about potential fraud. \\n\\n### exclusive insider information\\n### contact me directly on WhatsApp\\n### sharing personal details\\n### helping you save big\\n### WhatsApp: +1 555 1234567\\n'"
      ]
     },
     "execution_count": 4,
     "metadata": {},
     "output_type": "execute_result"
    }
   ],
   "source": [
    "import re\n",
    "\n",
    "def print_and_remove_lines_with_three_hashes(text):\n",
    "    # Split the text into lines\n",
    "    lines = text.split('\\n')\n",
    "    \n",
    "    # Define the regex pattern to match lines starting with exactly 3 #\n",
    "    pattern = r'^###.*'\n",
    "\n",
    "    # Find all lines matching the pattern\n",
    "    matches = re.findall(pattern, text, re.MULTILINE)\n",
    "\n",
    "    # Print the matched lines\n",
    "    for match in matches:\n",
    "        match\n",
    "\n",
    "    # Remove the matched lines from the text\n",
    "    cleaned_text = re.sub(pattern, '', text)\n",
    "\n",
    "    return cleaned_text\n",
    "\n",
    "text = \"\"\"\n",
    "John is offering exclusive promotions directly to the client and encouraging them to connect via WhatsApp, which is against company policy. Sharing personal details and offering the best deals directly is unprofessional and raises concerns about potential fraud. \n",
    "\n",
    "### exclusive insider information\n",
    "### contact me directly on WhatsApp\n",
    "### sharing personal details\n",
    "### helping you save big\n",
    "### WhatsApp: +1 555 1234567\n",
    "\"\"\"\n",
    "\n",
    "print_and_remove_lines_with_three_hashes(text)"
   ]
  },
  {
   "cell_type": "code",
   "execution_count": 17,
   "metadata": {},
   "outputs": [
    {
     "name": "stdout",
     "output_type": "stream",
     "text": [
      "Run Successfully\n"
     ]
    }
   ],
   "source": [
    "import pyttsx3\n",
    "\n",
    "engine = pyttsx3.init()\n",
    "engine.say('Hello World')\n",
    "engine.runAndWait()\n",
    "print(\"Run Successfully\")"
   ]
  },
  {
   "cell_type": "code",
   "execution_count": 10,
   "metadata": {},
   "outputs": [
    {
     "name": "stderr",
     "output_type": "stream",
     "text": [
      "Special tokens have been added in the vocabulary, make sure the associated word embeddings are fine-tuned or trained.\n",
      "Whisper did not predict an ending timestamp, which can happen if audio is cut off in the middle of a word. Also make sure WhisperTimeStampLogitsProcessor was used during generation.\n"
     ]
    },
    {
     "name": "stdout",
     "output_type": "stream",
     "text": [
      " Assalamualaikum, I am Hasan Bahtkar Raho, Habibi Banks. I want to tell you that Habibi Banks is not a rated card scheme. If you are interested in this service, then I will share with you the credit card service. I will share with you all the details. And if you want to give a direct bank, then you can take this service cost. If you are interested, then tell me in this service number 1 activate.ag bhaiarik bhaiarik bhaiarik bhaiarik bhaiarik bhaiarik bhaiarik bhaiarik bhaiarik bhaiarik bhaiarik bhaiarik bhaiarik bhaiarik bhaiarik bhaiarik bhaiarik bhaiarik bhaiarik bhaiarik bhaiarik bhaiarik bhaiarik bhaiarik bhaiarik bhaiarik bhaiarik bhaiarik bhaiarik bhaiarik bhaiarik b\n"
     ]
    }
   ],
   "source": [
    "import torch\n",
    "from transformers import AutoModelForSpeechSeq2Seq, AutoProcessor, pipeline\n",
    "from datasets import load_dataset\n",
    "\n",
    "\n",
    "device = \"cuda:0\" if torch.cuda.is_available() else \"cpu\"\n",
    "torch_dtype = torch.float16 if torch.cuda.is_available() else torch.float32\n",
    "\n",
    "model_id = \"openai/whisper-tiny\"\n",
    "\n",
    "model = AutoModelForSpeechSeq2Seq.from_pretrained(\n",
    "    model_id, torch_dtype=torch_dtype, low_cpu_mem_usage=True, use_safetensors=True\n",
    ")\n",
    "model.to(device)\n",
    "\n",
    "processor = AutoProcessor.from_pretrained(model_id)\n",
    "\n",
    "pipe = pipeline(\n",
    "    \"automatic-speech-recognition\",\n",
    "    model=model,\n",
    "    tokenizer=processor.tokenizer,\n",
    "    feature_extractor=processor.feature_extractor,\n",
    "    max_new_tokens=128,\n",
    "    chunk_length_s=30,\n",
    "    batch_size=16,\n",
    "    return_timestamps=True,\n",
    "    torch_dtype=torch_dtype,\n",
    "    device=device,\n",
    ")\n",
    "\n",
    "dataset = load_dataset(\"distil-whisper/librispeech_long\", \"clean\", split=\"validation\")\n",
    "sample = dataset[0][\"audio\"]\n",
    "\n",
    "result = pipe(\"Nawal/hassan_urdu_neg3.ogg\")\n",
    "print(result[\"text\"])"
   ]
  },
  {
   "cell_type": "code",
   "execution_count": 4,
   "metadata": {},
   "outputs": [
    {
     "name": "stderr",
     "output_type": "stream",
     "text": [
      "e:\\Habibi\\Detection System\\env\\Lib\\site-packages\\tqdm\\auto.py:21: TqdmWarning: IProgress not found. Please update jupyter and ipywidgets. See https://ipywidgets.readthedocs.io/en/stable/user_install.html\n",
      "  from .autonotebook import tqdm as notebook_tqdm\n"
     ]
    }
   ],
   "source": [
    "import pickle\n",
    "\n",
    "# Import necessary libraries and functions from speech_recognition_pipeline.py\n",
    "import torch\n",
    "from transformers import AutoModelForSpeechSeq2Seq, AutoProcessor, pipeline\n",
    "from datasets import load_dataset\n",
    "\n",
    "# Your code snippet here\n",
    "\n",
    "# Function to set up the pipeline and model\n",
    "def setup_pipeline():\n",
    "    device = \"cuda:0\" if torch.cuda.is_available() else \"cpu\"\n",
    "    torch_dtype = torch.float16 if torch.cuda.is_available() else torch.float32\n",
    "\n",
    "    model_id = \"openai/whisper-large-v3\"\n",
    "\n",
    "    model = AutoModelForSpeechSeq2Seq.from_pretrained(\n",
    "        model_id, torch_dtype=torch_dtype, low_cpu_mem_usage=True, use_safetensors=True\n",
    "    )\n",
    "    model.to(device)\n",
    "\n",
    "    processor = AutoProcessor.from_pretrained(model_id)\n",
    "\n",
    "    pipe = pipeline(\n",
    "        \"automatic-speech-recognition\",\n",
    "        model=model,\n",
    "        tokenizer=processor.tokenizer,\n",
    "        feature_extractor=processor.feature_extractor,\n",
    "        max_new_tokens=128,\n",
    "        chunk_length_s=30,\n",
    "        batch_size=16,\n",
    "        return_timestamps=True,\n",
    "        torch_dtype=torch_dtype,\n",
    "        device=device,\n",
    "    )\n",
    "\n",
    "    return pipe\n",
    "\n",
    "# Function to load dataset and get a sample\n",
    "def get_sample():\n",
    "    dataset = load_dataset(\"distil-whisper/librispeech_long\", \"clean\", split=\"validation\")\n",
    "    sample = dataset[0][\"audio\"]\n",
    "    return sample\n",
    "\n",
    "# Main function\n",
    "def main():\n",
    "    pipe = setup_pipeline()\n",
    "    sample = get_sample()\n",
    "    result = pipe(sample)\n",
    "    print(result[\"text\"])\n",
    "\n",
    "# Save the setup_pipeline function and the main function into a pickle file\n",
    "with open(\"speech_recognition_pipeline.pkl\", \"wb\") as f:\n",
    "    pickle.dump(setup_pipeline, f)\n",
    "    pickle.dump(main, f)\n"
   ]
  },
  {
   "cell_type": "code",
   "execution_count": 5,
   "metadata": {},
   "outputs": [
    {
     "name": "stderr",
     "output_type": "stream",
     "text": [
      "Special tokens have been added in the vocabulary, make sure the associated word embeddings are fine-tuned or trained.\n",
      "Due to a bug fix in https://github.com/huggingface/transformers/pull/28687 transcription using a multilingual Whisper will default to language detection followed by transcription instead of translation to English.This might be a breaking change for your use case. If you want to instead always translate your audio to English, make sure to pass `language='en'`.\n",
      "Whisper did not predict an ending timestamp, which can happen if audio is cut off in the middle of a word. Also make sure WhisperTimeStampLogitsProcessor was used during generation.\n"
     ]
    },
    {
     "name": "stdout",
     "output_type": "stream",
     "text": [
      "Transcription: \n",
      "  میں حسان بات کر رہا ہوں حبیبی بینک سے میں آپ کو بتانا چاہتا ہوں کہ حبیبی بینک نے ایک نئی کریڈٹ کارڈ سکیم شروع کی ہے اگر آپ یہ خدمت مجھ سے لیں گے تو میں کم سے کم وقت میں بہترین وسائل کے ساتھ خرام کروں گا اس کیے ہیں تو پھر آپ کو یہ خدمات مہنگی پڑے گی اگر آپ دلچسپی رکھتے ہیں تو مجھے بتائیں میں یہ خدمات آپ کے نمبر پر فعال کر دوں گا مزید معلومات کے لئے یہ کام پیسے والی خدمات کے لئے آپ مجھ سے واتس ایپ\n"
     ]
    }
   ],
   "source": [
    "import pickle\n",
    "\n",
    "# Load the pickle file\n",
    "with open(\"speech_recognition_pipeline.pkl\", \"rb\") as f:\n",
    "    setup_pipeline = pickle.load(f)\n",
    "    main = pickle.load(f)\n",
    "\n",
    "pipe = setup_pipeline()\n",
    "\n",
    "def process_audio(audio_file):\n",
    "    # Read the audio file\n",
    "    with open(audio_file, \"rb\") as f:\n",
    "        audio = f.read()\n",
    "\n",
    "    # Use the pipeline to transcribe the audio\n",
    "    result = pipe(audio)\n",
    "    return result[\"text\"]\n",
    "\n",
    "audio_file = \"Nawal/hassan_urdu_neg5.ogg\"  # Provide the path to your audio file\n",
    "transcription = process_audio(audio_file)\n",
    "print(\"Transcription: \\n\", transcription)\n"
   ]
  },
  {
   "cell_type": "code",
   "execution_count": 29,
   "metadata": {},
   "outputs": [
    {
     "name": "stdout",
     "output_type": "stream",
     "text": [
      "a \n",
      "b\n"
     ]
    }
   ],
   "source": [
    "print(\"a \\nb\")"
   ]
  },
  {
   "cell_type": "code",
   "execution_count": 14,
   "metadata": {},
   "outputs": [
    {
     "name": "stderr",
     "output_type": "stream",
     "text": [
      "Whisper did not predict an ending timestamp, which can happen if audio is cut off in the middle of a word. Also make sure WhisperTimeStampLogitsProcessor was used during generation.\n"
     ]
    },
    {
     "name": "stdout",
     "output_type": "stream",
     "text": [
      "[{'timestamp': (0.0, 8.68), 'text': ' اصرامل ایکوں میں ہسان بات کر رہا ہوں، ابھی بی بیک سے مہا آپ کو باتا رہا چاہتا ہوں کہ ابھی بیک نے ایک ریٹھ کاڈیس کیم شروع کی ہے۔'}, {'timestamp': (8.68, 14.32), 'text': ' اگر آپ یہ سرویت مسے لگے تو کم سے کم چارجیس مہا آپ کو کلیٹھ کاڈیس کیم دیکھ مل ستی ہے۔'}, {'timestamp': (14.32, 18.72), 'text': ' اور اگر آپ دیریک بیک سے دینہ چاہتے ہیں تو بیر آپ کو یہ سرویت مہیں گی پڑی ہی۔'}, {'timestamp': (18.72, None), 'text': ' ابھی آپ انتوستے دہتوں میں یہ سرویت آپ نے نمبر پر ایک تیویک ایک ایک ایک ایک ایک ایک ایک ایک ایک ایک ایک ایک ایک ایک ایک ایک ایک ایک ایک ایک ایک ایک ایک ایک ایک ایک ایک ایک ایک ایک ایک ایک ایک ایک ایک ایک ایک ایک ایک ایک ایک ایک ایک ایک ایک ایک ایک ایک ایک ایک ایک ایک ایک ایک ایک ایک ایک ایک ایک ایک ایک ایک ایک ایک ایک ایک ایک ایک ایک ایک ایک ایک ایک ایک ایک ایک ایک ایک ایک ایک ایک ایک ایک ایک ایک ایک ایک ایک ایک ایک ایک ایک ایک ایک ایک ایک ایک ایک ایک ایک ایک ایک ایک ایک ایک ایک ایک ایک ایک ایک ایک ایک ایک ایک ایک ایک ایک ایک ایک ایک ایک ایک ایک ایک ایک ایک ایک ایک ایک ایک ایک ایک ایک ایک ایک ایک ایک ایک ایک ایک ایک ایک ایک ایک ایک ایک ایک ایک ایک ایک ایک ایک ایک ایک ایک ایک ایک ایک ایک ایک ایک ایک ایک ایک ایک ایک ایک ایک ایک ایک ایک ایک ایک ایک ایک ایک ایک ایک ایک ایک ایک ایک ایک ایک ایک ایک ایک ایک ایک ایک ایک ایک ایک ایک ایک ایک ایک ایک ایک ایک ایک ایک ایک ایک ایک ایک ایک ایک ایک ایک ایک ایک ایک ایک ایک ایک ایک ایک ایک'}]\n"
     ]
    }
   ],
   "source": [
    "sample = \"Nawal/hassan_urdu_neg.wav\"\n",
    "result = pipe(sample, generate_kwargs={\"language\": \"urdu\"})\n",
    "print(result[\"chunks\"])"
   ]
  },
  {
   "cell_type": "code",
   "execution_count": 17,
   "metadata": {},
   "outputs": [
    {
     "name": "stderr",
     "output_type": "stream",
     "text": [
      "Whisper did not predict an ending timestamp, which can happen if audio is cut off in the middle of a word. Also make sure WhisperTimeStampLogitsProcessor was used during generation.\n"
     ]
    },
    {
     "name": "stdout",
     "output_type": "stream",
     "text": [
      " میں اصان بات کر رہا ہم ہم بھی بینک سے میں آپ کو باتانا چاہتا ہم کہ ہم بھی بینک نے ایک نہیں کر رہت کا دیس کیم شروع کی ہے اگر آپ یہ خدمت ملسے لیں گے تو میں کم سکم ہمک میں بیٹرین وصل کے ساتھ فرام کر رہا ہمہ ا تھی تھی تھی تھی تھی تھی تھی تھی تھی تھی تھی تھی تھی تھی تھی تھی تھی تھی تھی تھی تھی تھی تھی تھی تھی تھی تھی تھی تھی تھی تھی تھی تھی تھی تھی تھی تھی تھی تھی تھی تھی تھی تھی تھی تھی تھی تھی تھی تھی تھی تھی تھی تھی تھی تھی تھی تھی ت\n"
     ]
    }
   ],
   "source": [
    "sample = \"Nawal/hassan_urdu_neg5.ogg\"\n",
    "\n",
    "result = pipe(sample)\n",
    "print(result['text'])"
   ]
  },
  {
   "cell_type": "code",
   "execution_count": null,
   "metadata": {},
   "outputs": [],
   "source": []
  },
  {
   "cell_type": "code",
   "execution_count": 9,
   "metadata": {},
   "outputs": [
    {
     "name": "stdout",
     "output_type": "stream",
     "text": [
      "میں حسان بات کر رہا ہوں حبیبی بینک سے میں آپ کو بتانا چاہتا ہوں کہ حبیبی بینک نے ایک نئی کریڈٹ کارڈ سکیم شروع کی ہے اگر آپ یہ خدمت مجھ سے لیں گے تو میں کم سے کم وقت میں بہترین وسائل کے ساتھ فرام کروں گا اس کی تفسیرات میں آپ کے نمبر پر بھیج دوں گا اگر آپ سیدھا بینک سے لینا چاہتے ہیں تو پھر آپ کو یہ خدمات مہنگی پڑے گی اگر آپ دلچسپی رکھتے ہیں تو مجھے بتائیں میں یہ خدمات آپ کے نمبر پر فعال کر دوں گا مزید معلومات کے لیے یہ کام پیسے والی خدمات کے لیے آپ مجھ سے واتس ایپ پر بھی رابطہ کر سکتے ہیں شکریہ\n"
     ]
    }
   ],
   "source": [
    "from openai import OpenAI\n",
    "client = OpenAI()\n",
    "\n",
    "audio_file= open(\"Nawal/hassan_urdu_neg4.wav\", \"rb\")\n",
    "transcription = client.audio.transcriptions.create(\n",
    "  model=\"whisper-1\", \n",
    "  file=audio_file\n",
    ")\n",
    "print(transcription.text)"
   ]
  }
 ],
 "metadata": {
  "kernelspec": {
   "display_name": "env",
   "language": "python",
   "name": "python3"
  },
  "language_info": {
   "codemirror_mode": {
    "name": "ipython",
    "version": 3
   },
   "file_extension": ".py",
   "mimetype": "text/x-python",
   "name": "python",
   "nbconvert_exporter": "python",
   "pygments_lexer": "ipython3",
   "version": "3.12.2"
  }
 },
 "nbformat": 4,
 "nbformat_minor": 2
}
